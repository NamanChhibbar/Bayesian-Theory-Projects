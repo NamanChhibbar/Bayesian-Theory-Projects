{
 "cells": [
  {
   "cell_type": "code",
   "execution_count": null,
   "metadata": {},
   "outputs": [],
   "source": [
    "import pandas as pd\n",
    "import numpy as np\n",
    "import matplotlib.pyplot as plt"
   ]
  },
  {
   "cell_type": "code",
   "execution_count": null,
   "metadata": {},
   "outputs": [],
   "source": [
    "# Function to read the csv files and combine them into a single dataframe\n",
    "def combine_data(file_list):\n",
    "    all_data = pd.DataFrame()\n",
    "\n",
    "    for file in file_list:\n",
    "        month = file.split('_')[1]\n",
    "        month = month.split('.')[0]\n",
    "        temp_df = read_csv(file)\n",
    "        temp_df['Month'] = month\n",
    "        all_data = pd.concat([all_data, temp_df], ignore_index=True)\n",
    "\n",
    "    return all_data\n",
    "\n",
    "# Function to read the csv file and clean the data\n",
    "def read_csv(file):\n",
    "    df = pd.read_csv(file)\n",
    "    df.dropna(inplace=True)\n",
    "    df = df[pd.to_numeric(df['Order ID'], errors='coerce').notnull()]\n",
    "\n",
    "    df['Quantity Ordered'] = pd.to_numeric(df['Quantity Ordered'], errors='coerce')\n",
    "    df['Price Each'] = pd.to_numeric(df['Price Each'], errors='coerce')\n",
    "    df['Total Revenue'] = df['Quantity Ordered'] * df['Price Each']\n",
    "\n",
    "    # Keep only the columns of interest\n",
    "    df = df[['Product', 'Quantity Ordered', 'Total Revenue']]\n",
    "\n",
    "    # Group by 'Product' and sum the 'Total Revenue'\n",
    "    df = df.groupby('Product').sum().reset_index()\n",
    "\n",
    "    return df"
   ]
  },
  {
   "cell_type": "code",
   "execution_count": null,
   "metadata": {},
   "outputs": [],
   "source": [
    "file_list = ['./data/Sales_January_2019.csv', './data/Sales_February_2019.csv', './data/Sales_March_2019.csv', './data/Sales_April_2019.csv', './data/Sales_May_2019.csv', './data/Sales_June_2019.csv', './data/Sales_July_2019.csv', './data/Sales_August_2019.csv', './data/Sales_September_2019.csv', './data/Sales_October_2019.csv', './data/Sales_November_2019.csv', './data/Sales_December_2019.csv']\n",
    "all_data = combine_data(file_list)\n",
    "all_data.to_csv('./data/combined_data.csv', index=False)"
   ]
  }
 ],
 "metadata": {
  "kernelspec": {
   "display_name": ".venv",
   "language": "python",
   "name": "python3"
  },
  "language_info": {
   "codemirror_mode": {
    "name": "ipython",
    "version": 3
   },
   "file_extension": ".py",
   "mimetype": "text/x-python",
   "name": "python",
   "nbconvert_exporter": "python",
   "pygments_lexer": "ipython3",
   "version": "3.10.12"
  }
 },
 "nbformat": 4,
 "nbformat_minor": 2
}
