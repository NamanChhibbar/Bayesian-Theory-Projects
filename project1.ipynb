{
 "cells": [
  {
   "cell_type": "markdown",
   "metadata": {},
   "source": [
    "# Bayesian Theory and Computation\n",
    "# Project 1\n",
    "\n",
    "**Naman Chhibbar** *MA21BTECH11011* \\\n",
    "**Abhay Gupta** *BM21BTECH11001*"
   ]
  },
  {
   "cell_type": "markdown",
   "metadata": {},
   "source": [
    "## Importing dependencies"
   ]
  },
  {
   "cell_type": "code",
   "execution_count": 1,
   "metadata": {},
   "outputs": [],
   "source": [
    "# Uncomment line below to install dependencies\n",
    "# !pip install numpy pandas"
   ]
  },
  {
   "cell_type": "code",
   "execution_count": 2,
   "metadata": {},
   "outputs": [],
   "source": [
    "import numpy as np\n",
    "import pandas as pd"
   ]
  },
  {
   "cell_type": "markdown",
   "metadata": {},
   "source": [
    "## Loading the data"
   ]
  },
  {
   "cell_type": "code",
   "execution_count": 3,
   "metadata": {},
   "outputs": [],
   "source": [
    "# Naman\n",
    "data_path = \"/Users/naman/Workspace/Data/Bayesian-Theory/fish_data.csv\"\n",
    "\n",
    "# Abhay\n",
    "# data_path = \"\""
   ]
  },
  {
   "cell_type": "code",
   "execution_count": 4,
   "metadata": {},
   "outputs": [
    {
     "data": {
      "text/html": [
       "<div>\n",
       "<style scoped>\n",
       "    .dataframe tbody tr th:only-of-type {\n",
       "        vertical-align: middle;\n",
       "    }\n",
       "\n",
       "    .dataframe tbody tr th {\n",
       "        vertical-align: top;\n",
       "    }\n",
       "\n",
       "    .dataframe thead th {\n",
       "        text-align: right;\n",
       "    }\n",
       "</style>\n",
       "<table border=\"1\" class=\"dataframe\">\n",
       "  <thead>\n",
       "    <tr style=\"text-align: right;\">\n",
       "      <th></th>\n",
       "      <th>id</th>\n",
       "      <th>average_length(inches))</th>\n",
       "      <th>average_weight(inches))</th>\n",
       "      <th>habitat</th>\n",
       "      <th>ph_of_water</th>\n",
       "      <th>color</th>\n",
       "      <th>Gender</th>\n",
       "      <th>life_span</th>\n",
       "    </tr>\n",
       "  </thead>\n",
       "  <tbody>\n",
       "    <tr>\n",
       "      <th>1995</th>\n",
       "      <td>1996</td>\n",
       "      <td>16.12</td>\n",
       "      <td>6.46</td>\n",
       "      <td>ponds</td>\n",
       "      <td>8.0</td>\n",
       "      <td>Red_and_White_Bi_Color</td>\n",
       "      <td>NaN</td>\n",
       "      <td>6.4</td>\n",
       "    </tr>\n",
       "    <tr>\n",
       "      <th>1996</th>\n",
       "      <td>1997</td>\n",
       "      <td>7.50</td>\n",
       "      <td>7.07</td>\n",
       "      <td>rivers</td>\n",
       "      <td>6.3</td>\n",
       "      <td>Black_and_Orange</td>\n",
       "      <td>True</td>\n",
       "      <td>14.0</td>\n",
       "    </tr>\n",
       "    <tr>\n",
       "      <th>1997</th>\n",
       "      <td>1998</td>\n",
       "      <td>10.52</td>\n",
       "      <td>3.27</td>\n",
       "      <td>slowmovingwaters</td>\n",
       "      <td>6.1</td>\n",
       "      <td>Orange</td>\n",
       "      <td>True</td>\n",
       "      <td>13.1</td>\n",
       "    </tr>\n",
       "    <tr>\n",
       "      <th>1998</th>\n",
       "      <td>1999</td>\n",
       "      <td>7.70</td>\n",
       "      <td>15.41</td>\n",
       "      <td>ponds</td>\n",
       "      <td>7.8</td>\n",
       "      <td>Orange</td>\n",
       "      <td>False</td>\n",
       "      <td>15.6</td>\n",
       "    </tr>\n",
       "    <tr>\n",
       "      <th>1999</th>\n",
       "      <td>2000</td>\n",
       "      <td>11.55</td>\n",
       "      <td>11.61</td>\n",
       "      <td>idlewater</td>\n",
       "      <td>7.5</td>\n",
       "      <td>Red_and_Silver</td>\n",
       "      <td>False</td>\n",
       "      <td>13.6</td>\n",
       "    </tr>\n",
       "  </tbody>\n",
       "</table>\n",
       "</div>"
      ],
      "text/plain": [
       "        id  average_length(inches))  average_weight(inches))  \\\n",
       "1995  1996                    16.12                     6.46   \n",
       "1996  1997                     7.50                     7.07   \n",
       "1997  1998                    10.52                     3.27   \n",
       "1998  1999                     7.70                    15.41   \n",
       "1999  2000                    11.55                    11.61   \n",
       "\n",
       "               habitat  ph_of_water                   color Gender  life_span  \n",
       "1995             ponds          8.0  Red_and_White_Bi_Color    NaN        6.4  \n",
       "1996            rivers          6.3        Black_and_Orange   True       14.0  \n",
       "1997  slowmovingwaters          6.1                  Orange   True       13.1  \n",
       "1998             ponds          7.8                  Orange  False       15.6  \n",
       "1999         idlewater          7.5          Red_and_Silver  False       13.6  "
      ]
     },
     "execution_count": 4,
     "metadata": {},
     "output_type": "execute_result"
    }
   ],
   "source": [
    "data = pd.read_csv(data_path)\n",
    "data.tail()"
   ]
  },
  {
   "cell_type": "markdown",
   "metadata": {},
   "source": [
    "### Preprocess"
   ]
  },
  {
   "cell_type": "code",
   "execution_count": 5,
   "metadata": {},
   "outputs": [
    {
     "data": {
      "text/plain": [
       "1995     64\n",
       "1996    140\n",
       "1997    131\n",
       "1998    156\n",
       "1999    136\n",
       "Name: life_span, dtype: int64"
      ]
     },
     "execution_count": 5,
     "metadata": {},
     "output_type": "execute_result"
    }
   ],
   "source": [
    "# Extract column of interest\n",
    "data = data[\"life_span\"].dropna()\n",
    "\n",
    "# Convert to int data type\n",
    "data = data * 10\n",
    "data = data.astype(int)\n",
    "\n",
    "data.tail()"
   ]
  },
  {
   "cell_type": "code",
   "execution_count": null,
   "metadata": {},
   "outputs": [],
   "source": []
  }
 ],
 "metadata": {
  "kernelspec": {
   "display_name": "Python 3",
   "language": "python",
   "name": "python3"
  },
  "language_info": {
   "codemirror_mode": {
    "name": "ipython",
    "version": 3
   },
   "file_extension": ".py",
   "mimetype": "text/x-python",
   "name": "python",
   "nbconvert_exporter": "python",
   "pygments_lexer": "ipython3",
   "version": "3.12.2"
  }
 },
 "nbformat": 4,
 "nbformat_minor": 2
}
